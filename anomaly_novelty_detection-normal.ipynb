{
 "cells": [
  {
   "cell_type": "markdown",
   "metadata": {},
   "source": [
    "# Anomaly and novelty detection based on the Normal distribution"
   ]
  },
  {
   "cell_type": "markdown",
   "metadata": {},
   "source": [
    "**Anomaly (outlier) detection**: an *anomaly*, or *outlier*, is data which is defined as an observation far from the others. Estimators used for anomaly detection try therefore to fit the regions where the training data is the most concentrated, ignoring the deviant observations. Anomaly detection is then a decision problem.\n",
    "\n",
    "**Novelty detection**: *novelty detection* consists in estimating whether a new observation is an anomaly or a normal datum. In this context, an anomaly is also called a novelty. Novelty detection predicts labels (decision problem) or computes the score of abnormality of new unseen data (estimation)."
   ]
  },
  {
   "cell_type": "markdown",
   "metadata": {},
   "source": [
    "## Setup\n",
    "\n",
    "First, import a few common modules, and check whether Python 3.5 or later and Scikit-Learn 0.20 or later are installed."
   ]
  },
  {
   "cell_type": "code",
   "execution_count": 2,
   "metadata": {},
   "outputs": [],
   "source": [
    "# Python ≥ 3.5 required\n",
    "import sys\n",
    "assert sys.version_info >= (3, 5)\n",
    "\n",
    "# Scikit-learn ≥ 0.20 required\n",
    "import sklearn\n",
    "assert sklearn.__version__ >= \"0.20\"\n",
    "\n",
    "# Common imports\n",
    "import numpy as np\n",
    "import os\n",
    "\n",
    "# To reproduce identically the tasks performed in this notebook at each run\n",
    "np.random.seed(42)\n",
    "\n",
    "# To plot figures using Matplotlib\n",
    "%matplotlib inline\n",
    "import matplotlib as mpl\n",
    "import matplotlib.pyplot as plt\n",
    "# Setting Matplotlib rc (initialisation) parameters\n",
    "mpl.rc('axes', labelsize=14) # overwritten by `plt.xlabel(fontsize=)` and `plt.ylabel(fontsize=)`\n",
    "mpl.rc('xtick', labelsize=12)\n",
    "mpl.rc('ytick', labelsize=12)"
   ]
  },
  {
   "cell_type": "code",
   "execution_count": 27,
   "metadata": {},
   "outputs": [],
   "source": [
    "from sklearn.datasets import load_iris"
   ]
  },
  {
   "cell_type": "markdown",
   "metadata": {},
   "source": [
    "## Data loading"
   ]
  },
  {
   "cell_type": "code",
   "execution_count": 85,
   "metadata": {},
   "outputs": [
    {
     "data": {
      "text/plain": [
       "array(['setosa', 'versicolor', 'virginica'], dtype='<U10')"
      ]
     },
     "execution_count": 85,
     "metadata": {},
     "output_type": "execute_result"
    }
   ],
   "source": [
    "data = load_iris()\n",
    "X = data.data\n",
    "Y = data.target\n",
    "data.target_names"
   ]
  },
  {
   "cell_type": "markdown",
   "metadata": {},
   "source": [
    "First five data:"
   ]
  },
  {
   "cell_type": "code",
   "execution_count": 86,
   "metadata": {},
   "outputs": [
    {
     "data": {
      "text/plain": [
       "array([[5.1, 3.5, 1.4, 0.2],\n",
       "       [4.9, 3. , 1.4, 0.2],\n",
       "       [4.7, 3.2, 1.3, 0.2],\n",
       "       [4.6, 3.1, 1.5, 0.2],\n",
       "       [5. , 3.6, 1.4, 0.2]])"
      ]
     },
     "execution_count": 86,
     "metadata": {},
     "output_type": "execute_result"
    }
   ],
   "source": [
    "X[:5]"
   ]
  },
  {
   "cell_type": "code",
   "execution_count": 87,
   "metadata": {},
   "outputs": [
    {
     "data": {
      "text/plain": [
       "(150, 4)"
      ]
     },
     "execution_count": 87,
     "metadata": {},
     "output_type": "execute_result"
    }
   ],
   "source": [
    "X.shape"
   ]
  },
  {
   "cell_type": "code",
   "execution_count": 88,
   "metadata": {},
   "outputs": [
    {
     "data": {
      "text/plain": [
       "array([0, 0, 0, 0, 0, 0, 0, 0, 0, 0, 0, 0, 0, 0, 0, 0, 0, 0, 0, 0, 0, 0,\n",
       "       0, 0, 0, 0, 0, 0, 0, 0, 0, 0, 0, 0, 0, 0, 0, 0, 0, 0, 0, 0, 0, 0,\n",
       "       0, 0, 0, 0, 0, 0, 1, 1, 1, 1, 1, 1, 1, 1, 1, 1, 1, 1, 1, 1, 1, 1,\n",
       "       1, 1, 1, 1, 1, 1, 1, 1, 1, 1, 1, 1, 1, 1, 1, 1, 1, 1, 1, 1, 1, 1,\n",
       "       1, 1, 1, 1, 1, 1, 1, 1, 1, 1, 1, 1, 2, 2, 2, 2, 2, 2, 2, 2, 2, 2,\n",
       "       2, 2, 2, 2, 2, 2, 2, 2, 2, 2, 2, 2, 2, 2, 2, 2, 2, 2, 2, 2, 2, 2,\n",
       "       2, 2, 2, 2, 2, 2, 2, 2, 2, 2, 2, 2, 2, 2, 2, 2, 2, 2])"
      ]
     },
     "execution_count": 88,
     "metadata": {},
     "output_type": "execute_result"
    }
   ],
   "source": [
    "Y"
   ]
  },
  {
   "cell_type": "code",
   "execution_count": 89,
   "metadata": {},
   "outputs": [
    {
     "data": {
      "text/plain": [
       "(150,)"
      ]
     },
     "execution_count": 89,
     "metadata": {},
     "output_type": "execute_result"
    }
   ],
   "source": [
    "Y.shape"
   ]
  },
  {
   "cell_type": "markdown",
   "metadata": {},
   "source": [
    "## Data ploting"
   ]
  },
  {
   "cell_type": "code",
   "execution_count": 133,
   "metadata": {},
   "outputs": [
    {
     "data": {
      "image/png": "[encoded data removed]",
      "text/plain": [
       "<Figure size 1296x504 with 2 Axes>"
      ]
     },
     "metadata": {
      "needs_background": "light"
     },
     "output_type": "display_data"
    }
   ],
   "source": [
    "def plot_data(X, Y):\n",
    "    plt.figure(figsize=(18, 7))\n",
    "\n",
    "    plt.subplot(121)\n",
    "    plt.plot(X[Y==0, 2], X[Y==0, 3], \"yo\", label=\"Iris setosa\")\n",
    "    plt.plot(X[Y==1, 2], X[Y==1, 3], \"bs\", label=\"Iris versicolor\")\n",
    "    plt.plot(X[Y==2, 2], X[Y==2, 3], \"g^\", label=\"Iris virginica\")\n",
    "    plt.xlabel(\"Petal length\", fontsize=14)\n",
    "    plt.ylabel(\"Petal width\", fontsize=14)\n",
    "    plt.legend(fontsize=12)\n",
    "\n",
    "    plt.subplot(122)\n",
    "    plt.scatter(X[:, 2], X[:, 3], c=\"k\", marker=\".\")\n",
    "    plt.xlabel(\"Petal length\", fontsize=14)\n",
    "    plt.tick_params(labelleft=False)\n",
    "\n",
    "    plt.show()\n",
    "\n",
    "plot_data(X, Y)"
   ]
  },
  {
   "cell_type": "markdown",
   "metadata": {},
   "source": [
    "## Anomaly detection"
   ]
  },
  {
   "cell_type": "markdown",
   "metadata": {},
   "source": [
    "Analyse one cluster, here that corresponding to \"setosa\", i.e. $y = 0$"
   ]
  },
  {
   "cell_type": "code",
   "execution_count": 149,
   "metadata": {},
   "outputs": [],
   "source": [
    "Xp = X[Y==0]\n",
    "Yp = Y[Y==0]"
   ]
  },
  {
   "cell_type": "markdown",
   "metadata": {},
   "source": [
    "Data's multi-dimensional average:"
   ]
  },
  {
   "cell_type": "code",
   "execution_count": 135,
   "metadata": {},
   "outputs": [
    {
     "data": {
      "text/plain": [
       "array([5.006, 3.428, 1.462, 0.246])"
      ]
     },
     "execution_count": 135,
     "metadata": {},
     "output_type": "execute_result"
    }
   ],
   "source": [
    "M = np.mean(Xp, axis=0)\n",
    "M"
   ]
  },
  {
   "cell_type": "markdown",
   "metadata": {},
   "source": [
    "Data's covariance:"
   ]
  },
  {
   "cell_type": "code",
   "execution_count": 136,
   "metadata": {
    "scrolled": true
   },
   "outputs": [
    {
     "data": {
      "text/plain": [
       "array([[0.12424898, 0.09921633, 0.0163551 , 0.01033061],\n",
       "       [0.09921633, 0.1436898 , 0.01169796, 0.00929796],\n",
       "       [0.0163551 , 0.01169796, 0.03015918, 0.00606939],\n",
       "       [0.01033061, 0.00929796, 0.00606939, 0.01110612]])"
      ]
     },
     "execution_count": 136,
     "metadata": {},
     "output_type": "execute_result"
    }
   ],
   "source": [
    "Cov = np.cov(Xp, rowvar=False)\n",
    "Cov"
   ]
  },
  {
   "cell_type": "markdown",
   "metadata": {},
   "source": [
    "The trace of the covariance matrix, $tr(Cov)$, can be considered as a multi-dimensional generalisation of the univariate variable variance, or in other terms an *overall variance*:"
   ]
  },
  {
   "cell_type": "code",
   "execution_count": 137,
   "metadata": {},
   "outputs": [
    {
     "data": {
      "text/plain": [
       "0.30920408163265306"
      ]
     },
     "execution_count": 137,
     "metadata": {},
     "output_type": "execute_result"
    }
   ],
   "source": [
    "v = np.matrix.trace(Cov)\n",
    "v"
   ]
  },
  {
   "cell_type": "markdown",
   "metadata": {},
   "source": [
    "Standard deviation"
   ]
  },
  {
   "cell_type": "code",
   "execution_count": 138,
   "metadata": {},
   "outputs": [
    {
     "data": {
      "text/plain": [
       "0.5560612211192695"
      ]
     },
     "execution_count": 138,
     "metadata": {},
     "output_type": "execute_result"
    }
   ],
   "source": [
    "s = np.sqrt(v)\n",
    "s"
   ]
  },
  {
   "cell_type": "code",
   "execution_count": 139,
   "metadata": {},
   "outputs": [],
   "source": [
    "def std(X):\n",
    "    return np.sqrt(np.matrix.trace(np.cov(X, rowvar=False)))"
   ]
  },
  {
   "cell_type": "markdown",
   "metadata": {},
   "source": [
    "Number of outliers according to the rule $||x - m|| \\geq 3 \\sigma$, which consists in excluding data that do not lie within $3 \\sigma$ from the mean, i.e. in about 99,7% of the data if their probability distribution were approximately normal, because 99,7% of the outcomes of a normal distribution lie within $23 \\sigma$ from the mean. According to this rule, outliers lie then in the remaining 0.3%."
   ]
  },
  {
   "cell_type": "code",
   "execution_count": 142,
   "metadata": {},
   "outputs": [
    {
     "data": {
      "text/plain": [
       "0"
      ]
     },
     "execution_count": 142,
     "metadata": {},
     "output_type": "execute_result"
    }
   ],
   "source": [
    "len(np.where(np.linalg.norm(Xp - M, axis=1) >= 3 * s)[0])"
   ]
  },
  {
   "cell_type": "markdown",
   "metadata": {},
   "source": [
    "Number of outliers according to the rule $||x - m|| \\geq 2 \\sigma$, which consists in excluding data that do not lie within $2 \\sigma$ from the mean, i.e. in about 95% of the data if their probability distribution were approximately normal, because 95% of the outcomes of a normal distribution lie within $2 \\sigma$ from the mean. According to this rule, outliers lie then in the remaining 5%."
   ]
  },
  {
   "cell_type": "code",
   "execution_count": 143,
   "metadata": {},
   "outputs": [
    {
     "data": {
      "text/plain": [
       "2"
      ]
     },
     "execution_count": 143,
     "metadata": {},
     "output_type": "execute_result"
    }
   ],
   "source": [
    "len(np.where(np.linalg.norm(Xp - M, axis=1) >= 2 * s)[0])"
   ]
  },
  {
   "cell_type": "markdown",
   "metadata": {},
   "source": [
    "Normal data, which are not anomalies, i.e. data that lie within $2 \\sigma$ from the mean:"
   ]
  },
  {
   "cell_type": "code",
   "execution_count": 117,
   "metadata": {},
   "outputs": [],
   "source": [
    "cleaned_Xp = Xp[np.where(np.linalg.norm(Xp - M, axis=1) <= 2 * s)[0]]\n",
    "cleaned_Y = Y[np.where(np.linalg.norm(Xp - M, axis=1) <= 2 * s)[0]]"
   ]
  },
  {
   "cell_type": "markdown",
   "metadata": {},
   "source": [
    "Function to clean data:"
   ]
  },
  {
   "cell_type": "code",
   "execution_count": 150,
   "metadata": {},
   "outputs": [
    {
     "data": {
      "text/plain": [
       "((48, 4), (48,))"
      ]
     },
     "execution_count": 150,
     "metadata": {},
     "output_type": "execute_result"
    }
   ],
   "source": [
    "def normal_clean(X, Y, std_radius=2):\n",
    "    M = np.mean(X, axis=0)\n",
    "    s = np.sqrt(np.matrix.trace(np.cov(X, rowvar=False)))\n",
    "    normal_ids = np.where(np.linalg.norm(X - M, axis=1) <= std_radius * s)[0]\n",
    "    \n",
    "    return X[normal_ids], Y[normal_ids]\n",
    "\n",
    "cleaned_Xp, cleaned_Yp = normal_clean(Xp, Yp, 2)\n",
    "cleaned_Xp.shape, cleaned_Yp.shape"
   ]
  },
  {
   "cell_type": "markdown",
   "metadata": {},
   "source": [
    "## Novelty detection"
   ]
  },
  {
   "cell_type": "markdown",
   "metadata": {},
   "source": [
    "Function to detect a novelty:"
   ]
  },
  {
   "cell_type": "code",
   "execution_count": 155,
   "metadata": {},
   "outputs": [],
   "source": [
    "def detect_novelty(X, x, std_radius=2):\n",
    "    x = np.reshape(x, (1,4))\n",
    "    # `X_p`: X prime\n",
    "    X_p = np.append(X, x, axis=0)\n",
    "    M = np.mean(X_p, axis=0)\n",
    "    s = std(X)\n",
    "    \n",
    "    return 1 if np.linalg.norm(x - M) <= std_radius * s \\\n",
    "        else -1"
   ]
  },
  {
   "cell_type": "code",
   "execution_count": 156,
   "metadata": {},
   "outputs": [
    {
     "data": {
      "text/plain": [
       "1"
      ]
     },
     "execution_count": 156,
     "metadata": {},
     "output_type": "execute_result"
    }
   ],
   "source": [
    "detect_novelty(X, [7.1, 5.5, 3.4, 2.2])"
   ]
  }
 ],
 "metadata": {
  "kernelspec": {
   "display_name": "Python 3",
   "language": "python",
   "name": "python3"
  },
  "language_info": {
   "codemirror_mode": {
    "name": "ipython",
    "version": 3
   },
   "file_extension": ".py",
   "mimetype": "text/x-python",
   "name": "python",
   "nbconvert_exporter": "python",
   "pygments_lexer": "ipython3",
   "version": "3.8.3"
  }
 },
 "nbformat": 4,
 "nbformat_minor": 4
}
